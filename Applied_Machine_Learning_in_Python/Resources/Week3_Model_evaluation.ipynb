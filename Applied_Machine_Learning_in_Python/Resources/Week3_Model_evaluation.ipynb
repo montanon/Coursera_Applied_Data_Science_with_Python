{
 "cells": [
  {
   "cell_type": "markdown",
   "metadata": {},
   "source": [
    "---\n",
    "\n",
    "_You are currently looking at **version 1.0** of this notebook. To download notebooks and datafiles, as well as get help on Jupyter notebooks in the Coursera platform, visit the [Jupyter Notebook FAQ](https://www.coursera.org/learn/python-machine-learning/resources/bANLa) course resource._\n",
    "\n",
    "---"
   ]
  },
  {
   "cell_type": "markdown",
   "metadata": {
    "collapsed": true
   },
   "source": [
    "# Applied Machine Learning: Module 3 (Evaluation)"
   ]
  },
  {
   "cell_type": "markdown",
   "metadata": {},
   "source": [
    "## Evaluation for Classification"
   ]
  },
  {
   "cell_type": "markdown",
   "metadata": {},
   "source": [
    "### Preamble"
   ]
  },
  {
   "cell_type": "code",
   "execution_count": 13,
   "metadata": {
    "collapsed": false
   },
   "outputs": [
    {
     "name": "stdout",
     "output_type": "stream",
     "text": [
      "0 178\n",
      "1 182\n",
      "2 177\n",
      "3 183\n",
      "4 181\n",
      "5 182\n",
      "6 181\n",
      "7 179\n",
      "8 174\n",
      "9 180\n"
     ]
    }
   ],
   "source": [
    "%matplotlib notebook\n",
    "import numpy as np\n",
    "import pandas as pd\n",
    "import seaborn as sns\n",
    "import matplotlib.pyplot as plt\n",
    "from sklearn.model_selection import train_test_split\n",
    "from sklearn.datasets import load_digits\n",
    "\n",
    "dataset = load_digits()\n",
    "X, y = dataset.data, dataset.target\n",
    "\n",
    "for class_name, class_count in zip(dataset.target_names, np.bincount(dataset.target)):\n",
    "    print(class_name,class_count)"
   ]
  },
  {
   "cell_type": "code",
   "execution_count": 2,
   "metadata": {
    "collapsed": false
   },
   "outputs": [
    {
     "name": "stdout",
     "output_type": "stream",
     "text": [
      "Original labels:\t [1 2 3 4 5 6 7 8 9 0 1 2 3 4 5 6 7 8 9 0 1 2 3 4 5 6 7 8 9]\n",
      "New binary labels:\t [1 0 0 0 0 0 0 0 0 0 1 0 0 0 0 0 0 0 0 0 1 0 0 0 0 0 0 0 0]\n"
     ]
    }
   ],
   "source": [
    "# Creating a dataset with imbalanced binary classes:  \n",
    "# Negative class (0) is 'not digit 1' \n",
    "# Positive class (1) is 'digit 1'\n",
    "y_binary_imbalanced = y.copy()\n",
    "y_binary_imbalanced[y_binary_imbalanced != 1] = 0\n",
    "\n",
    "print('Original labels:\\t', y[1:30])\n",
    "print('New binary labels:\\t', y_binary_imbalanced[1:30])"
   ]
  },
  {
   "cell_type": "code",
   "execution_count": 3,
   "metadata": {
    "collapsed": false,
    "scrolled": true
   },
   "outputs": [
    {
     "data": {
      "text/plain": [
       "array([1615,  182])"
      ]
     },
     "execution_count": 3,
     "metadata": {},
     "output_type": "execute_result"
    }
   ],
   "source": [
    "np.bincount(y_binary_imbalanced)    # Negative class (0) is the most frequent class"
   ]
  },
  {
   "cell_type": "code",
   "execution_count": 4,
   "metadata": {
    "collapsed": false
   },
   "outputs": [
    {
     "data": {
      "text/plain": [
       "0.90888888888888886"
      ]
     },
     "execution_count": 4,
     "metadata": {},
     "output_type": "execute_result"
    }
   ],
   "source": [
    "X_train, X_test, y_train, y_test = train_test_split(X, y_binary_imbalanced, random_state=0)\n",
    "\n",
    "# Accuracy of Support Vector Machine classifier\n",
    "from sklearn.svm import SVC\n",
    "\n",
    "svm = SVC(kernel='rbf', C=1).fit(X_train, y_train)\n",
    "svm.score(X_test, y_test)"
   ]
  },
  {
   "cell_type": "markdown",
   "metadata": {},
   "source": [
    "### Dummy Classifiers"
   ]
  },
  {
   "cell_type": "markdown",
   "metadata": {
    "collapsed": true
   },
   "source": [
    "DummyClassifier is a classifier that makes predictions using simple rules, which can be useful as a baseline for comparison against actual classifiers, especially with imbalanced classes."
   ]
  },
  {
   "cell_type": "code",
   "execution_count": 5,
   "metadata": {
    "collapsed": false
   },
   "outputs": [
    {
     "data": {
      "text/plain": [
       "array([0, 0, 0, 0, 0, 0, 0, 0, 0, 0, 0, 0, 0, 0, 0, 0, 0, 0, 0, 0, 0, 0, 0,\n",
       "       0, 0, 0, 0, 0, 0, 0, 0, 0, 0, 0, 0, 0, 0, 0, 0, 0, 0, 0, 0, 0, 0, 0,\n",
       "       0, 0, 0, 0, 0, 0, 0, 0, 0, 0, 0, 0, 0, 0, 0, 0, 0, 0, 0, 0, 0, 0, 0,\n",
       "       0, 0, 0, 0, 0, 0, 0, 0, 0, 0, 0, 0, 0, 0, 0, 0, 0, 0, 0, 0, 0, 0, 0,\n",
       "       0, 0, 0, 0, 0, 0, 0, 0, 0, 0, 0, 0, 0, 0, 0, 0, 0, 0, 0, 0, 0, 0, 0,\n",
       "       0, 0, 0, 0, 0, 0, 0, 0, 0, 0, 0, 0, 0, 0, 0, 0, 0, 0, 0, 0, 0, 0, 0,\n",
       "       0, 0, 0, 0, 0, 0, 0, 0, 0, 0, 0, 0, 0, 0, 0, 0, 0, 0, 0, 0, 0, 0, 0,\n",
       "       0, 0, 0, 0, 0, 0, 0, 0, 0, 0, 0, 0, 0, 0, 0, 0, 0, 0, 0, 0, 0, 0, 0,\n",
       "       0, 0, 0, 0, 0, 0, 0, 0, 0, 0, 0, 0, 0, 0, 0, 0, 0, 0, 0, 0, 0, 0, 0,\n",
       "       0, 0, 0, 0, 0, 0, 0, 0, 0, 0, 0, 0, 0, 0, 0, 0, 0, 0, 0, 0, 0, 0, 0,\n",
       "       0, 0, 0, 0, 0, 0, 0, 0, 0, 0, 0, 0, 0, 0, 0, 0, 0, 0, 0, 0, 0, 0, 0,\n",
       "       0, 0, 0, 0, 0, 0, 0, 0, 0, 0, 0, 0, 0, 0, 0, 0, 0, 0, 0, 0, 0, 0, 0,\n",
       "       0, 0, 0, 0, 0, 0, 0, 0, 0, 0, 0, 0, 0, 0, 0, 0, 0, 0, 0, 0, 0, 0, 0,\n",
       "       0, 0, 0, 0, 0, 0, 0, 0, 0, 0, 0, 0, 0, 0, 0, 0, 0, 0, 0, 0, 0, 0, 0,\n",
       "       0, 0, 0, 0, 0, 0, 0, 0, 0, 0, 0, 0, 0, 0, 0, 0, 0, 0, 0, 0, 0, 0, 0,\n",
       "       0, 0, 0, 0, 0, 0, 0, 0, 0, 0, 0, 0, 0, 0, 0, 0, 0, 0, 0, 0, 0, 0, 0,\n",
       "       0, 0, 0, 0, 0, 0, 0, 0, 0, 0, 0, 0, 0, 0, 0, 0, 0, 0, 0, 0, 0, 0, 0,\n",
       "       0, 0, 0, 0, 0, 0, 0, 0, 0, 0, 0, 0, 0, 0, 0, 0, 0, 0, 0, 0, 0, 0, 0,\n",
       "       0, 0, 0, 0, 0, 0, 0, 0, 0, 0, 0, 0, 0, 0, 0, 0, 0, 0, 0, 0, 0, 0, 0,\n",
       "       0, 0, 0, 0, 0, 0, 0, 0, 0, 0, 0, 0, 0])"
      ]
     },
     "execution_count": 5,
     "metadata": {},
     "output_type": "execute_result"
    }
   ],
   "source": [
    "from sklearn.dummy import DummyClassifier\n",
    "\n",
    "# Negative class (0) is most frequent\n",
    "dummy_majority = DummyClassifier(strategy = 'most_frequent').fit(X_train, y_train)\n",
    "# Therefore the dummy 'most_frequent' classifier always predicts class 0\n",
    "y_dummy_predictions = dummy_majority.predict(X_test)\n",
    "\n",
    "y_dummy_predictions"
   ]
  },
  {
   "cell_type": "code",
   "execution_count": 6,
   "metadata": {
    "collapsed": false
   },
   "outputs": [
    {
     "data": {
      "text/plain": [
       "0.9044444444444445"
      ]
     },
     "execution_count": 6,
     "metadata": {},
     "output_type": "execute_result"
    }
   ],
   "source": [
    "dummy_majority.score(X_test, y_test)"
   ]
  },
  {
   "cell_type": "code",
   "execution_count": 7,
   "metadata": {
    "collapsed": false
   },
   "outputs": [
    {
     "data": {
      "text/plain": [
       "0.97777777777777775"
      ]
     },
     "execution_count": 7,
     "metadata": {},
     "output_type": "execute_result"
    }
   ],
   "source": [
    "svm = SVC(kernel='linear', C=1).fit(X_train, y_train)\n",
    "svm.score(X_test, y_test)"
   ]
  },
  {
   "cell_type": "markdown",
   "metadata": {},
   "source": [
    "### Confusion matrices"
   ]
  },
  {
   "cell_type": "markdown",
   "metadata": {},
   "source": [
    "#### Binary (two-class) confusion matrix"
   ]
  },
  {
   "cell_type": "code",
   "execution_count": 8,
   "metadata": {
    "collapsed": false
   },
   "outputs": [
    {
     "name": "stdout",
     "output_type": "stream",
     "text": [
      "Most frequent class (dummy classifier)\n",
      " [[407   0]\n",
      " [ 43   0]]\n"
     ]
    }
   ],
   "source": [
    "from sklearn.metrics import confusion_matrix\n",
    "\n",
    "# Negative class (0) is most frequent\n",
    "dummy_majority = DummyClassifier(strategy = 'most_frequent').fit(X_train, y_train)\n",
    "y_majority_predicted = dummy_majority.predict(X_test)\n",
    "confusion = confusion_matrix(y_test, y_majority_predicted)\n",
    "\n",
    "print('Most frequent class (dummy classifier)\\n', confusion)"
   ]
  },
  {
   "cell_type": "code",
   "execution_count": 9,
   "metadata": {
    "collapsed": false
   },
   "outputs": [
    {
     "name": "stdout",
     "output_type": "stream",
     "text": [
      "Random class-proportional prediction (dummy classifier)\n",
      " [[367  40]\n",
      " [ 36   7]]\n"
     ]
    }
   ],
   "source": [
    "# produces random predictions w/ same class proportion as training set\n",
    "dummy_classprop = DummyClassifier(strategy='stratified').fit(X_train, y_train)\n",
    "y_classprop_predicted = dummy_classprop.predict(X_test)\n",
    "confusion = confusion_matrix(y_test, y_classprop_predicted)\n",
    "\n",
    "print('Random class-proportional prediction (dummy classifier)\\n', confusion)"
   ]
  },
  {
   "cell_type": "code",
   "execution_count": 10,
   "metadata": {
    "collapsed": false,
    "scrolled": true
   },
   "outputs": [
    {
     "name": "stdout",
     "output_type": "stream",
     "text": [
      "Support vector machine classifier (linear kernel, C=1)\n",
      " [[402   5]\n",
      " [  5  38]]\n"
     ]
    }
   ],
   "source": [
    "svm = SVC(kernel='linear', C=1).fit(X_train, y_train)\n",
    "svm_predicted = svm.predict(X_test)\n",
    "confusion = confusion_matrix(y_test, svm_predicted)\n",
    "\n",
    "print('Support vector machine classifier (linear kernel, C=1)\\n', confusion)"
   ]
  },
  {
   "cell_type": "code",
   "execution_count": 11,
   "metadata": {
    "collapsed": false
   },
   "outputs": [
    {
     "name": "stdout",
     "output_type": "stream",
     "text": [
      "Logistic regression classifier (default settings)\n",
      " [[401   6]\n",
      " [  6  37]]\n"
     ]
    }
   ],
   "source": [
    "from sklearn.linear_model import LogisticRegression\n",
    "\n",
    "lr = LogisticRegression().fit(X_train, y_train)\n",
    "lr_predicted = lr.predict(X_test)\n",
    "confusion = confusion_matrix(y_test, lr_predicted)\n",
    "\n",
    "print('Logistic regression classifier (default settings)\\n', confusion)"
   ]
  },
  {
   "cell_type": "code",
   "execution_count": 12,
   "metadata": {
    "collapsed": false
   },
   "outputs": [
    {
     "name": "stdout",
     "output_type": "stream",
     "text": [
      "Decision tree classifier (max_depth = 2)\n",
      " [[400   7]\n",
      " [ 17  26]]\n"
     ]
    }
   ],
   "source": [
    "from sklearn.tree import DecisionTreeClassifier\n",
    "\n",
    "dt = DecisionTreeClassifier(max_depth=2).fit(X_train, y_train)\n",
    "tree_predicted = dt.predict(X_test)\n",
    "confusion = confusion_matrix(y_test, tree_predicted)\n",
    "\n",
    "print('Decision tree classifier (max_depth = 2)\\n', confusion)"
   ]
  },
  {
   "cell_type": "markdown",
   "metadata": {},
   "source": [
    "### Evaluation metrics for binary classification"
   ]
  },
  {
   "cell_type": "code",
   "execution_count": 14,
   "metadata": {
    "collapsed": false
   },
   "outputs": [
    {
     "name": "stdout",
     "output_type": "stream",
     "text": [
      "Accuracy: 0.95\n",
      "Precision: 0.79\n",
      "Recall: 0.60\n",
      "F1: 0.68\n"
     ]
    }
   ],
   "source": [
    "from sklearn.metrics import accuracy_score, precision_score, recall_score, f1_score\n",
    "# Accuracy = TP + TN / (TP + TN + FP + FN)\n",
    "# Precision = TP / (TP + FP)\n",
    "# Recall = TP / (TP + FN)  Also known as sensitivity, or True Positive Rat e\n",
    "# F1 = 2 * Precision * Recall / (Precision + Recall) \n",
    "print('Accuracy: {:.2f}'.format(accuracy_score(y_test, tree_predicted)))\n",
    "print('Precision: {:.2f}'.format(precision_score(y_test, tree_predicted)))\n",
    "print('Recall: {:.2f}'.format(recall_score(y_test, tree_predicted)))\n",
    "print('F1: {:.2f}'.format(f1_score(y_test, tree_predicted)))"
   ]
  },
  {
   "cell_type": "code",
   "execution_count": 15,
   "metadata": {
    "collapsed": false
   },
   "outputs": [
    {
     "name": "stdout",
     "output_type": "stream",
     "text": [
      "             precision    recall  f1-score   support\n",
      "\n",
      "      not 1       0.96      0.98      0.97       407\n",
      "          1       0.79      0.60      0.68        43\n",
      "\n",
      "avg / total       0.94      0.95      0.94       450\n",
      "\n"
     ]
    }
   ],
   "source": [
    "# Combined report with all above metrics\n",
    "from sklearn.metrics import classification_report\n",
    "\n",
    "print(classification_report(y_test, tree_predicted, target_names=['not 1', '1']))"
   ]
  },
  {
   "cell_type": "code",
   "execution_count": 16,
   "metadata": {
    "collapsed": false,
    "scrolled": false
   },
   "outputs": [
    {
     "name": "stdout",
     "output_type": "stream",
     "text": [
      "Random class-proportional (dummy)\n",
      "              precision    recall  f1-score   support\n",
      "\n",
      "      not 1       0.91      0.90      0.91       407\n",
      "          1       0.15      0.16      0.16        43\n",
      "\n",
      "avg / total       0.84      0.83      0.83       450\n",
      "\n",
      "SVM\n",
      "              precision    recall  f1-score   support\n",
      "\n",
      "      not 1       0.99      0.99      0.99       407\n",
      "          1       0.88      0.88      0.88        43\n",
      "\n",
      "avg / total       0.98      0.98      0.98       450\n",
      "\n",
      "Logistic regression\n",
      "              precision    recall  f1-score   support\n",
      "\n",
      "      not 1       0.99      0.99      0.99       407\n",
      "          1       0.86      0.86      0.86        43\n",
      "\n",
      "avg / total       0.97      0.97      0.97       450\n",
      "\n",
      "Decision tree\n",
      "              precision    recall  f1-score   support\n",
      "\n",
      "      not 1       0.96      0.98      0.97       407\n",
      "          1       0.79      0.60      0.68        43\n",
      "\n",
      "avg / total       0.94      0.95      0.94       450\n",
      "\n"
     ]
    }
   ],
   "source": [
    "print('Random class-proportional (dummy)\\n', \n",
    "      classification_report(y_test, y_classprop_predicted, target_names=['not 1', '1']))\n",
    "print('SVM\\n', \n",
    "      classification_report(y_test, svm_predicted, target_names = ['not 1', '1']))\n",
    "print('Logistic regression\\n', \n",
    "      classification_report(y_test, lr_predicted, target_names = ['not 1', '1']))\n",
    "print('Decision tree\\n', \n",
    "      classification_report(y_test, tree_predicted, target_names = ['not 1', '1']))"
   ]
  },
  {
   "cell_type": "markdown",
   "metadata": {},
   "source": [
    "### Decision functions"
   ]
  },
  {
   "cell_type": "code",
   "execution_count": null,
   "metadata": {
    "collapsed": false
   },
   "outputs": [],
   "source": [
    "X_train, X_test, y_train, y_test = train_test_split(X, y_binary_imbalanced, random_state=0)\n",
    "y_scores_lr = lr.fit(X_train, y_train).decision_function(X_test)\n",
    "y_score_list = list(zip(y_test[0:20], y_scores_lr[0:20]))\n",
    "\n",
    "# show the decision_function scores for first 20 instances\n",
    "y_score_list"
   ]
  },
  {
   "cell_type": "code",
   "execution_count": null,
   "metadata": {
    "collapsed": false
   },
   "outputs": [],
   "source": [
    "X_train, X_test, y_train, y_test = train_test_split(X, y_binary_imbalanced, random_state=0)\n",
    "y_proba_lr = lr.fit(X_train, y_train).predict_proba(X_test)\n",
    "y_proba_list = list(zip(y_test[0:20], y_proba_lr[0:20,1]))\n",
    "\n",
    "# show the probability of positive class for first 20 instances\n",
    "y_proba_list"
   ]
  },
  {
   "cell_type": "markdown",
   "metadata": {},
   "source": [
    "### Precision-recall curves"
   ]
  },
  {
   "cell_type": "code",
   "execution_count": null,
   "metadata": {
    "collapsed": false
   },
   "outputs": [],
   "source": [
    "from sklearn.metrics import precision_recall_curve\n",
    "\n",
    "precision, recall, thresholds = precision_recall_curve(y_test, y_scores_lr)\n",
    "closest_zero = np.argmin(np.abs(thresholds))\n",
    "closest_zero_p = precision[closest_zero]\n",
    "closest_zero_r = recall[closest_zero]\n",
    "\n",
    "plt.figure()\n",
    "plt.xlim([0.0, 1.01])\n",
    "plt.ylim([0.0, 1.01])\n",
    "plt.plot(precision, recall, label='Precision-Recall Curve')\n",
    "plt.plot(closest_zero_p, closest_zero_r, 'o', markersize = 12, fillstyle = 'none', c='r', mew=3)\n",
    "plt.xlabel('Precision', fontsize=16)\n",
    "plt.ylabel('Recall', fontsize=16)\n",
    "plt.axes().set_aspect('equal')\n",
    "plt.show()"
   ]
  },
  {
   "cell_type": "markdown",
   "metadata": {},
   "source": [
    "### ROC curves, Area-Under-Curve (AUC)"
   ]
  },
  {
   "cell_type": "code",
   "execution_count": 17,
   "metadata": {
    "collapsed": false
   },
   "outputs": [
    {
     "data": {
      "application/javascript": [
       "/* Put everything inside the global mpl namespace */\n",
       "window.mpl = {};\n",
       "\n",
       "\n",
       "mpl.get_websocket_type = function() {\n",
       "    if (typeof(WebSocket) !== 'undefined') {\n",
       "        return WebSocket;\n",
       "    } else if (typeof(MozWebSocket) !== 'undefined') {\n",
       "        return MozWebSocket;\n",
       "    } else {\n",
       "        alert('Your browser does not have WebSocket support.' +\n",
       "              'Please try Chrome, Safari or Firefox ≥ 6. ' +\n",
       "              'Firefox 4 and 5 are also supported but you ' +\n",
       "              'have to enable WebSockets in about:config.');\n",
       "    };\n",
       "}\n",
       "\n",
       "mpl.figure = function(figure_id, websocket, ondownload, parent_element) {\n",
       "    this.id = figure_id;\n",
       "\n",
       "    this.ws = websocket;\n",
       "\n",
       "    this.supports_binary = (this.ws.binaryType != undefined);\n",
       "\n",
       "    if (!this.supports_binary) {\n",
       "        var warnings = document.getElementById(\"mpl-warnings\");\n",
       "        if (warnings) {\n",
       "            warnings.style.display = 'block';\n",
       "            warnings.textContent = (\n",
       "                \"This browser does not support binary websocket messages. \" +\n",
       "                    \"Performance may be slow.\");\n",
       "        }\n",
       "    }\n",
       "\n",
       "    this.imageObj = new Image();\n",
       "\n",
       "    this.context = undefined;\n",
       "    this.message = undefined;\n",
       "    this.canvas = undefined;\n",
       "    this.rubberband_canvas = undefined;\n",
       "    this.rubberband_context = undefined;\n",
       "    this.format_dropdown = undefined;\n",
       "\n",
       "    this.image_mode = 'full';\n",
       "\n",
       "    this.root = $('<div/>');\n",
       "    this._root_extra_style(this.root)\n",
       "    this.root.attr('style', 'display: inline-block');\n",
       "\n",
       "    $(parent_element).append(this.root);\n",
       "\n",
       "    this._init_header(this);\n",
       "    this._init_canvas(this);\n",
       "    this._init_toolbar(this);\n",
       "\n",
       "    var fig = this;\n",
       "\n",
       "    this.waiting = false;\n",
       "\n",
       "    this.ws.onopen =  function () {\n",
       "            fig.send_message(\"supports_binary\", {value: fig.supports_binary});\n",
       "            fig.send_message(\"send_image_mode\", {});\n",
       "            if (mpl.ratio != 1) {\n",
       "                fig.send_message(\"set_dpi_ratio\", {'dpi_ratio': mpl.ratio});\n",
       "            }\n",
       "            fig.send_message(\"refresh\", {});\n",
       "        }\n",
       "\n",
       "    this.imageObj.onload = function() {\n",
       "            if (fig.image_mode == 'full') {\n",
       "                // Full images could contain transparency (where diff images\n",
       "                // almost always do), so we need to clear the canvas so that\n",
       "                // there is no ghosting.\n",
       "                fig.context.clearRect(0, 0, fig.canvas.width, fig.canvas.height);\n",
       "            }\n",
       "            fig.context.drawImage(fig.imageObj, 0, 0);\n",
       "        };\n",
       "\n",
       "    this.imageObj.onunload = function() {\n",
       "        this.ws.close();\n",
       "    }\n",
       "\n",
       "    this.ws.onmessage = this._make_on_message_function(this);\n",
       "\n",
       "    this.ondownload = ondownload;\n",
       "}\n",
       "\n",
       "mpl.figure.prototype._init_header = function() {\n",
       "    var titlebar = $(\n",
       "        '<div class=\"ui-dialog-titlebar ui-widget-header ui-corner-all ' +\n",
       "        'ui-helper-clearfix\"/>');\n",
       "    var titletext = $(\n",
       "        '<div class=\"ui-dialog-title\" style=\"width: 100%; ' +\n",
       "        'text-align: center; padding: 3px;\"/>');\n",
       "    titlebar.append(titletext)\n",
       "    this.root.append(titlebar);\n",
       "    this.header = titletext[0];\n",
       "}\n",
       "\n",
       "\n",
       "\n",
       "mpl.figure.prototype._canvas_extra_style = function(canvas_div) {\n",
       "\n",
       "}\n",
       "\n",
       "\n",
       "mpl.figure.prototype._root_extra_style = function(canvas_div) {\n",
       "\n",
       "}\n",
       "\n",
       "mpl.figure.prototype._init_canvas = function() {\n",
       "    var fig = this;\n",
       "\n",
       "    var canvas_div = $('<div/>');\n",
       "\n",
       "    canvas_div.attr('style', 'position: relative; clear: both; outline: 0');\n",
       "\n",
       "    function canvas_keyboard_event(event) {\n",
       "        return fig.key_event(event, event['data']);\n",
       "    }\n",
       "\n",
       "    canvas_div.keydown('key_press', canvas_keyboard_event);\n",
       "    canvas_div.keyup('key_release', canvas_keyboard_event);\n",
       "    this.canvas_div = canvas_div\n",
       "    this._canvas_extra_style(canvas_div)\n",
       "    this.root.append(canvas_div);\n",
       "\n",
       "    var canvas = $('<canvas/>');\n",
       "    canvas.addClass('mpl-canvas');\n",
       "    canvas.attr('style', \"left: 0; top: 0; z-index: 0; outline: 0\")\n",
       "\n",
       "    this.canvas = canvas[0];\n",
       "    this.context = canvas[0].getContext(\"2d\");\n",
       "\n",
       "    var backingStore = this.context.backingStorePixelRatio ||\n",
       "\tthis.context.webkitBackingStorePixelRatio ||\n",
       "\tthis.context.mozBackingStorePixelRatio ||\n",
       "\tthis.context.msBackingStorePixelRatio ||\n",
       "\tthis.context.oBackingStorePixelRatio ||\n",
       "\tthis.context.backingStorePixelRatio || 1;\n",
       "\n",
       "    mpl.ratio = (window.devicePixelRatio || 1) / backingStore;\n",
       "\n",
       "    var rubberband = $('<canvas/>');\n",
       "    rubberband.attr('style', \"position: absolute; left: 0; top: 0; z-index: 1;\")\n",
       "\n",
       "    var pass_mouse_events = true;\n",
       "\n",
       "    canvas_div.resizable({\n",
       "        start: function(event, ui) {\n",
       "            pass_mouse_events = false;\n",
       "        },\n",
       "        resize: function(event, ui) {\n",
       "            fig.request_resize(ui.size.width, ui.size.height);\n",
       "        },\n",
       "        stop: function(event, ui) {\n",
       "            pass_mouse_events = true;\n",
       "            fig.request_resize(ui.size.width, ui.size.height);\n",
       "        },\n",
       "    });\n",
       "\n",
       "    function mouse_event_fn(event) {\n",
       "        if (pass_mouse_events)\n",
       "            return fig.mouse_event(event, event['data']);\n",
       "    }\n",
       "\n",
       "    rubberband.mousedown('button_press', mouse_event_fn);\n",
       "    rubberband.mouseup('button_release', mouse_event_fn);\n",
       "    // Throttle sequential mouse events to 1 every 20ms.\n",
       "    rubberband.mousemove('motion_notify', mouse_event_fn);\n",
       "\n",
       "    rubberband.mouseenter('figure_enter', mouse_event_fn);\n",
       "    rubberband.mouseleave('figure_leave', mouse_event_fn);\n",
       "\n",
       "    canvas_div.on(\"wheel\", function (event) {\n",
       "        event = event.originalEvent;\n",
       "        event['data'] = 'scroll'\n",
       "        if (event.deltaY < 0) {\n",
       "            event.step = 1;\n",
       "        } else {\n",
       "            event.step = -1;\n",
       "        }\n",
       "        mouse_event_fn(event);\n",
       "    });\n",
       "\n",
       "    canvas_div.append(canvas);\n",
       "    canvas_div.append(rubberband);\n",
       "\n",
       "    this.rubberband = rubberband;\n",
       "    this.rubberband_canvas = rubberband[0];\n",
       "    this.rubberband_context = rubberband[0].getContext(\"2d\");\n",
       "    this.rubberband_context.strokeStyle = \"#000000\";\n",
       "\n",
       "    this._resize_canvas = function(width, height) {\n",
       "        // Keep the size of the canvas, canvas container, and rubber band\n",
       "        // canvas in synch.\n",
       "        canvas_div.css('width', width)\n",
       "        canvas_div.css('height', height)\n",
       "\n",
       "        canvas.attr('width', width * mpl.ratio);\n",
       "        canvas.attr('height', height * mpl.ratio);\n",
       "        canvas.attr('style', 'width: ' + width + 'px; height: ' + height + 'px;');\n",
       "\n",
       "        rubberband.attr('width', width);\n",
       "        rubberband.attr('height', height);\n",
       "    }\n",
       "\n",
       "    // Set the figure to an initial 600x600px, this will subsequently be updated\n",
       "    // upon first draw.\n",
       "    this._resize_canvas(600, 600);\n",
       "\n",
       "    // Disable right mouse context menu.\n",
       "    $(this.rubberband_canvas).bind(\"contextmenu\",function(e){\n",
       "        return false;\n",
       "    });\n",
       "\n",
       "    function set_focus () {\n",
       "        canvas.focus();\n",
       "        canvas_div.focus();\n",
       "    }\n",
       "\n",
       "    window.setTimeout(set_focus, 100);\n",
       "}\n",
       "\n",
       "mpl.figure.prototype._init_toolbar = function() {\n",
       "    var fig = this;\n",
       "\n",
       "    var nav_element = $('<div/>')\n",
       "    nav_element.attr('style', 'width: 100%');\n",
       "    this.root.append(nav_element);\n",
       "\n",
       "    // Define a callback function for later on.\n",
       "    function toolbar_event(event) {\n",
       "        return fig.toolbar_button_onclick(event['data']);\n",
       "    }\n",
       "    function toolbar_mouse_event(event) {\n",
       "        return fig.toolbar_button_onmouseover(event['data']);\n",
       "    }\n",
       "\n",
       "    for(var toolbar_ind in mpl.toolbar_items) {\n",
       "        var name = mpl.toolbar_items[toolbar_ind][0];\n",
       "        var tooltip = mpl.toolbar_items[toolbar_ind][1];\n",
       "        var image = mpl.toolbar_items[toolbar_ind][2];\n",
       "        var method_name = mpl.toolbar_items[toolbar_ind][3];\n",
       "\n",
       "        if (!name) {\n",
       "            // put a spacer in here.\n",
       "            continue;\n",
       "        }\n",
       "        var button = $('<button/>');\n",
       "        button.addClass('ui-button ui-widget ui-state-default ui-corner-all ' +\n",
       "                        'ui-button-icon-only');\n",
       "        button.attr('role', 'button');\n",
       "        button.attr('aria-disabled', 'false');\n",
       "        button.click(method_name, toolbar_event);\n",
       "        button.mouseover(tooltip, toolbar_mouse_event);\n",
       "\n",
       "        var icon_img = $('<span/>');\n",
       "        icon_img.addClass('ui-button-icon-primary ui-icon');\n",
       "        icon_img.addClass(image);\n",
       "        icon_img.addClass('ui-corner-all');\n",
       "\n",
       "        var tooltip_span = $('<span/>');\n",
       "        tooltip_span.addClass('ui-button-text');\n",
       "        tooltip_span.html(tooltip);\n",
       "\n",
       "        button.append(icon_img);\n",
       "        button.append(tooltip_span);\n",
       "\n",
       "        nav_element.append(button);\n",
       "    }\n",
       "\n",
       "    var fmt_picker_span = $('<span/>');\n",
       "\n",
       "    var fmt_picker = $('<select/>');\n",
       "    fmt_picker.addClass('mpl-toolbar-option ui-widget ui-widget-content');\n",
       "    fmt_picker_span.append(fmt_picker);\n",
       "    nav_element.append(fmt_picker_span);\n",
       "    this.format_dropdown = fmt_picker[0];\n",
       "\n",
       "    for (var ind in mpl.extensions) {\n",
       "        var fmt = mpl.extensions[ind];\n",
       "        var option = $(\n",
       "            '<option/>', {selected: fmt === mpl.default_extension}).html(fmt);\n",
       "        fmt_picker.append(option)\n",
       "    }\n",
       "\n",
       "    // Add hover states to the ui-buttons\n",
       "    $( \".ui-button\" ).hover(\n",
       "        function() { $(this).addClass(\"ui-state-hover\");},\n",
       "        function() { $(this).removeClass(\"ui-state-hover\");}\n",
       "    );\n",
       "\n",
       "    var status_bar = $('<span class=\"mpl-message\"/>');\n",
       "    nav_element.append(status_bar);\n",
       "    this.message = status_bar[0];\n",
       "}\n",
       "\n",
       "mpl.figure.prototype.request_resize = function(x_pixels, y_pixels) {\n",
       "    // Request matplotlib to resize the figure. Matplotlib will then trigger a resize in the client,\n",
       "    // which will in turn request a refresh of the image.\n",
       "    this.send_message('resize', {'width': x_pixels, 'height': y_pixels});\n",
       "}\n",
       "\n",
       "mpl.figure.prototype.send_message = function(type, properties) {\n",
       "    properties['type'] = type;\n",
       "    properties['figure_id'] = this.id;\n",
       "    this.ws.send(JSON.stringify(properties));\n",
       "}\n",
       "\n",
       "mpl.figure.prototype.send_draw_message = function() {\n",
       "    if (!this.waiting) {\n",
       "        this.waiting = true;\n",
       "        this.ws.send(JSON.stringify({type: \"draw\", figure_id: this.id}));\n",
       "    }\n",
       "}\n",
       "\n",
       "\n",
       "mpl.figure.prototype.handle_save = function(fig, msg) {\n",
       "    var format_dropdown = fig.format_dropdown;\n",
       "    var format = format_dropdown.options[format_dropdown.selectedIndex].value;\n",
       "    fig.ondownload(fig, format);\n",
       "}\n",
       "\n",
       "\n",
       "mpl.figure.prototype.handle_resize = function(fig, msg) {\n",
       "    var size = msg['size'];\n",
       "    if (size[0] != fig.canvas.width || size[1] != fig.canvas.height) {\n",
       "        fig._resize_canvas(size[0], size[1]);\n",
       "        fig.send_message(\"refresh\", {});\n",
       "    };\n",
       "}\n",
       "\n",
       "mpl.figure.prototype.handle_rubberband = function(fig, msg) {\n",
       "    var x0 = msg['x0'] / mpl.ratio;\n",
       "    var y0 = (fig.canvas.height - msg['y0']) / mpl.ratio;\n",
       "    var x1 = msg['x1'] / mpl.ratio;\n",
       "    var y1 = (fig.canvas.height - msg['y1']) / mpl.ratio;\n",
       "    x0 = Math.floor(x0) + 0.5;\n",
       "    y0 = Math.floor(y0) + 0.5;\n",
       "    x1 = Math.floor(x1) + 0.5;\n",
       "    y1 = Math.floor(y1) + 0.5;\n",
       "    var min_x = Math.min(x0, x1);\n",
       "    var min_y = Math.min(y0, y1);\n",
       "    var width = Math.abs(x1 - x0);\n",
       "    var height = Math.abs(y1 - y0);\n",
       "\n",
       "    fig.rubberband_context.clearRect(\n",
       "        0, 0, fig.canvas.width, fig.canvas.height);\n",
       "\n",
       "    fig.rubberband_context.strokeRect(min_x, min_y, width, height);\n",
       "}\n",
       "\n",
       "mpl.figure.prototype.handle_figure_label = function(fig, msg) {\n",
       "    // Updates the figure title.\n",
       "    fig.header.textContent = msg['label'];\n",
       "}\n",
       "\n",
       "mpl.figure.prototype.handle_cursor = function(fig, msg) {\n",
       "    var cursor = msg['cursor'];\n",
       "    switch(cursor)\n",
       "    {\n",
       "    case 0:\n",
       "        cursor = 'pointer';\n",
       "        break;\n",
       "    case 1:\n",
       "        cursor = 'default';\n",
       "        break;\n",
       "    case 2:\n",
       "        cursor = 'crosshair';\n",
       "        break;\n",
       "    case 3:\n",
       "        cursor = 'move';\n",
       "        break;\n",
       "    }\n",
       "    fig.rubberband_canvas.style.cursor = cursor;\n",
       "}\n",
       "\n",
       "mpl.figure.prototype.handle_message = function(fig, msg) {\n",
       "    fig.message.textContent = msg['message'];\n",
       "}\n",
       "\n",
       "mpl.figure.prototype.handle_draw = function(fig, msg) {\n",
       "    // Request the server to send over a new figure.\n",
       "    fig.send_draw_message();\n",
       "}\n",
       "\n",
       "mpl.figure.prototype.handle_image_mode = function(fig, msg) {\n",
       "    fig.image_mode = msg['mode'];\n",
       "}\n",
       "\n",
       "mpl.figure.prototype.updated_canvas_event = function() {\n",
       "    // Called whenever the canvas gets updated.\n",
       "    this.send_message(\"ack\", {});\n",
       "}\n",
       "\n",
       "// A function to construct a web socket function for onmessage handling.\n",
       "// Called in the figure constructor.\n",
       "mpl.figure.prototype._make_on_message_function = function(fig) {\n",
       "    return function socket_on_message(evt) {\n",
       "        if (evt.data instanceof Blob) {\n",
       "            /* FIXME: We get \"Resource interpreted as Image but\n",
       "             * transferred with MIME type text/plain:\" errors on\n",
       "             * Chrome.  But how to set the MIME type?  It doesn't seem\n",
       "             * to be part of the websocket stream */\n",
       "            evt.data.type = \"image/png\";\n",
       "\n",
       "            /* Free the memory for the previous frames */\n",
       "            if (fig.imageObj.src) {\n",
       "                (window.URL || window.webkitURL).revokeObjectURL(\n",
       "                    fig.imageObj.src);\n",
       "            }\n",
       "\n",
       "            fig.imageObj.src = (window.URL || window.webkitURL).createObjectURL(\n",
       "                evt.data);\n",
       "            fig.updated_canvas_event();\n",
       "            fig.waiting = false;\n",
       "            return;\n",
       "        }\n",
       "        else if (typeof evt.data === 'string' && evt.data.slice(0, 21) == \"data:image/png;base64\") {\n",
       "            fig.imageObj.src = evt.data;\n",
       "            fig.updated_canvas_event();\n",
       "            fig.waiting = false;\n",
       "            return;\n",
       "        }\n",
       "\n",
       "        var msg = JSON.parse(evt.data);\n",
       "        var msg_type = msg['type'];\n",
       "\n",
       "        // Call the  \"handle_{type}\" callback, which takes\n",
       "        // the figure and JSON message as its only arguments.\n",
       "        try {\n",
       "            var callback = fig[\"handle_\" + msg_type];\n",
       "        } catch (e) {\n",
       "            console.log(\"No handler for the '\" + msg_type + \"' message type: \", msg);\n",
       "            return;\n",
       "        }\n",
       "\n",
       "        if (callback) {\n",
       "            try {\n",
       "                // console.log(\"Handling '\" + msg_type + \"' message: \", msg);\n",
       "                callback(fig, msg);\n",
       "            } catch (e) {\n",
       "                console.log(\"Exception inside the 'handler_\" + msg_type + \"' callback:\", e, e.stack, msg);\n",
       "            }\n",
       "        }\n",
       "    };\n",
       "}\n",
       "\n",
       "// from http://stackoverflow.com/questions/1114465/getting-mouse-location-in-canvas\n",
       "mpl.findpos = function(e) {\n",
       "    //this section is from http://www.quirksmode.org/js/events_properties.html\n",
       "    var targ;\n",
       "    if (!e)\n",
       "        e = window.event;\n",
       "    if (e.target)\n",
       "        targ = e.target;\n",
       "    else if (e.srcElement)\n",
       "        targ = e.srcElement;\n",
       "    if (targ.nodeType == 3) // defeat Safari bug\n",
       "        targ = targ.parentNode;\n",
       "\n",
       "    // jQuery normalizes the pageX and pageY\n",
       "    // pageX,Y are the mouse positions relative to the document\n",
       "    // offset() returns the position of the element relative to the document\n",
       "    var x = e.pageX - $(targ).offset().left;\n",
       "    var y = e.pageY - $(targ).offset().top;\n",
       "\n",
       "    return {\"x\": x, \"y\": y};\n",
       "};\n",
       "\n",
       "/*\n",
       " * return a copy of an object with only non-object keys\n",
       " * we need this to avoid circular references\n",
       " * http://stackoverflow.com/a/24161582/3208463\n",
       " */\n",
       "function simpleKeys (original) {\n",
       "  return Object.keys(original).reduce(function (obj, key) {\n",
       "    if (typeof original[key] !== 'object')\n",
       "        obj[key] = original[key]\n",
       "    return obj;\n",
       "  }, {});\n",
       "}\n",
       "\n",
       "mpl.figure.prototype.mouse_event = function(event, name) {\n",
       "    var canvas_pos = mpl.findpos(event)\n",
       "\n",
       "    if (name === 'button_press')\n",
       "    {\n",
       "        this.canvas.focus();\n",
       "        this.canvas_div.focus();\n",
       "    }\n",
       "\n",
       "    var x = canvas_pos.x * mpl.ratio;\n",
       "    var y = canvas_pos.y * mpl.ratio;\n",
       "\n",
       "    this.send_message(name, {x: x, y: y, button: event.button,\n",
       "                             step: event.step,\n",
       "                             guiEvent: simpleKeys(event)});\n",
       "\n",
       "    /* This prevents the web browser from automatically changing to\n",
       "     * the text insertion cursor when the button is pressed.  We want\n",
       "     * to control all of the cursor setting manually through the\n",
       "     * 'cursor' event from matplotlib */\n",
       "    event.preventDefault();\n",
       "    return false;\n",
       "}\n",
       "\n",
       "mpl.figure.prototype._key_event_extra = function(event, name) {\n",
       "    // Handle any extra behaviour associated with a key event\n",
       "}\n",
       "\n",
       "mpl.figure.prototype.key_event = function(event, name) {\n",
       "\n",
       "    // Prevent repeat events\n",
       "    if (name == 'key_press')\n",
       "    {\n",
       "        if (event.which === this._key)\n",
       "            return;\n",
       "        else\n",
       "            this._key = event.which;\n",
       "    }\n",
       "    if (name == 'key_release')\n",
       "        this._key = null;\n",
       "\n",
       "    var value = '';\n",
       "    if (event.ctrlKey && event.which != 17)\n",
       "        value += \"ctrl+\";\n",
       "    if (event.altKey && event.which != 18)\n",
       "        value += \"alt+\";\n",
       "    if (event.shiftKey && event.which != 16)\n",
       "        value += \"shift+\";\n",
       "\n",
       "    value += 'k';\n",
       "    value += event.which.toString();\n",
       "\n",
       "    this._key_event_extra(event, name);\n",
       "\n",
       "    this.send_message(name, {key: value,\n",
       "                             guiEvent: simpleKeys(event)});\n",
       "    return false;\n",
       "}\n",
       "\n",
       "mpl.figure.prototype.toolbar_button_onclick = function(name) {\n",
       "    if (name == 'download') {\n",
       "        this.handle_save(this, null);\n",
       "    } else {\n",
       "        this.send_message(\"toolbar_button\", {name: name});\n",
       "    }\n",
       "};\n",
       "\n",
       "mpl.figure.prototype.toolbar_button_onmouseover = function(tooltip) {\n",
       "    this.message.textContent = tooltip;\n",
       "};\n",
       "mpl.toolbar_items = [[\"Home\", \"Reset original view\", \"fa fa-home icon-home\", \"home\"], [\"Back\", \"Back to  previous view\", \"fa fa-arrow-left icon-arrow-left\", \"back\"], [\"Forward\", \"Forward to next view\", \"fa fa-arrow-right icon-arrow-right\", \"forward\"], [\"\", \"\", \"\", \"\"], [\"Pan\", \"Pan axes with left mouse, zoom with right\", \"fa fa-arrows icon-move\", \"pan\"], [\"Zoom\", \"Zoom to rectangle\", \"fa fa-square-o icon-check-empty\", \"zoom\"], [\"\", \"\", \"\", \"\"], [\"Download\", \"Download plot\", \"fa fa-floppy-o icon-save\", \"download\"]];\n",
       "\n",
       "mpl.extensions = [\"eps\", \"jpeg\", \"pdf\", \"png\", \"ps\", \"raw\", \"svg\", \"tif\"];\n",
       "\n",
       "mpl.default_extension = \"png\";var comm_websocket_adapter = function(comm) {\n",
       "    // Create a \"websocket\"-like object which calls the given IPython comm\n",
       "    // object with the appropriate methods. Currently this is a non binary\n",
       "    // socket, so there is still some room for performance tuning.\n",
       "    var ws = {};\n",
       "\n",
       "    ws.close = function() {\n",
       "        comm.close()\n",
       "    };\n",
       "    ws.send = function(m) {\n",
       "        //console.log('sending', m);\n",
       "        comm.send(m);\n",
       "    };\n",
       "    // Register the callback with on_msg.\n",
       "    comm.on_msg(function(msg) {\n",
       "        //console.log('receiving', msg['content']['data'], msg);\n",
       "        // Pass the mpl event to the overriden (by mpl) onmessage function.\n",
       "        ws.onmessage(msg['content']['data'])\n",
       "    });\n",
       "    return ws;\n",
       "}\n",
       "\n",
       "mpl.mpl_figure_comm = function(comm, msg) {\n",
       "    // This is the function which gets called when the mpl process\n",
       "    // starts-up an IPython Comm through the \"matplotlib\" channel.\n",
       "\n",
       "    var id = msg.content.data.id;\n",
       "    // Get hold of the div created by the display call when the Comm\n",
       "    // socket was opened in Python.\n",
       "    var element = $(\"#\" + id);\n",
       "    var ws_proxy = comm_websocket_adapter(comm)\n",
       "\n",
       "    function ondownload(figure, format) {\n",
       "        window.open(figure.imageObj.src);\n",
       "    }\n",
       "\n",
       "    var fig = new mpl.figure(id, ws_proxy,\n",
       "                           ondownload,\n",
       "                           element.get(0));\n",
       "\n",
       "    // Call onopen now - mpl needs it, as it is assuming we've passed it a real\n",
       "    // web socket which is closed, not our websocket->open comm proxy.\n",
       "    ws_proxy.onopen();\n",
       "\n",
       "    fig.parent_element = element.get(0);\n",
       "    fig.cell_info = mpl.find_output_cell(\"<div id='\" + id + \"'></div>\");\n",
       "    if (!fig.cell_info) {\n",
       "        console.error(\"Failed to find cell for figure\", id, fig);\n",
       "        return;\n",
       "    }\n",
       "\n",
       "    var output_index = fig.cell_info[2]\n",
       "    var cell = fig.cell_info[0];\n",
       "\n",
       "};\n",
       "\n",
       "mpl.figure.prototype.handle_close = function(fig, msg) {\n",
       "    var width = fig.canvas.width/mpl.ratio\n",
       "    fig.root.unbind('remove')\n",
       "\n",
       "    // Update the output cell to use the data from the current canvas.\n",
       "    fig.push_to_output();\n",
       "    var dataURL = fig.canvas.toDataURL();\n",
       "    // Re-enable the keyboard manager in IPython - without this line, in FF,\n",
       "    // the notebook keyboard shortcuts fail.\n",
       "    IPython.keyboard_manager.enable()\n",
       "    $(fig.parent_element).html('<img src=\"' + dataURL + '\" width=\"' + width + '\">');\n",
       "    fig.close_ws(fig, msg);\n",
       "}\n",
       "\n",
       "mpl.figure.prototype.close_ws = function(fig, msg){\n",
       "    fig.send_message('closing', msg);\n",
       "    // fig.ws.close()\n",
       "}\n",
       "\n",
       "mpl.figure.prototype.push_to_output = function(remove_interactive) {\n",
       "    // Turn the data on the canvas into data in the output cell.\n",
       "    var width = this.canvas.width/mpl.ratio\n",
       "    var dataURL = this.canvas.toDataURL();\n",
       "    this.cell_info[1]['text/html'] = '<img src=\"' + dataURL + '\" width=\"' + width + '\">';\n",
       "}\n",
       "\n",
       "mpl.figure.prototype.updated_canvas_event = function() {\n",
       "    // Tell IPython that the notebook contents must change.\n",
       "    IPython.notebook.set_dirty(true);\n",
       "    this.send_message(\"ack\", {});\n",
       "    var fig = this;\n",
       "    // Wait a second, then push the new image to the DOM so\n",
       "    // that it is saved nicely (might be nice to debounce this).\n",
       "    setTimeout(function () { fig.push_to_output() }, 1000);\n",
       "}\n",
       "\n",
       "mpl.figure.prototype._init_toolbar = function() {\n",
       "    var fig = this;\n",
       "\n",
       "    var nav_element = $('<div/>')\n",
       "    nav_element.attr('style', 'width: 100%');\n",
       "    this.root.append(nav_element);\n",
       "\n",
       "    // Define a callback function for later on.\n",
       "    function toolbar_event(event) {\n",
       "        return fig.toolbar_button_onclick(event['data']);\n",
       "    }\n",
       "    function toolbar_mouse_event(event) {\n",
       "        return fig.toolbar_button_onmouseover(event['data']);\n",
       "    }\n",
       "\n",
       "    for(var toolbar_ind in mpl.toolbar_items){\n",
       "        var name = mpl.toolbar_items[toolbar_ind][0];\n",
       "        var tooltip = mpl.toolbar_items[toolbar_ind][1];\n",
       "        var image = mpl.toolbar_items[toolbar_ind][2];\n",
       "        var method_name = mpl.toolbar_items[toolbar_ind][3];\n",
       "\n",
       "        if (!name) { continue; };\n",
       "\n",
       "        var button = $('<button class=\"btn btn-default\" href=\"#\" title=\"' + name + '\"><i class=\"fa ' + image + ' fa-lg\"></i></button>');\n",
       "        button.click(method_name, toolbar_event);\n",
       "        button.mouseover(tooltip, toolbar_mouse_event);\n",
       "        nav_element.append(button);\n",
       "    }\n",
       "\n",
       "    // Add the status bar.\n",
       "    var status_bar = $('<span class=\"mpl-message\" style=\"text-align:right; float: right;\"/>');\n",
       "    nav_element.append(status_bar);\n",
       "    this.message = status_bar[0];\n",
       "\n",
       "    // Add the close button to the window.\n",
       "    var buttongrp = $('<div class=\"btn-group inline pull-right\"></div>');\n",
       "    var button = $('<button class=\"btn btn-mini btn-primary\" href=\"#\" title=\"Stop Interaction\"><i class=\"fa fa-power-off icon-remove icon-large\"></i></button>');\n",
       "    button.click(function (evt) { fig.handle_close(fig, {}); } );\n",
       "    button.mouseover('Stop Interaction', toolbar_mouse_event);\n",
       "    buttongrp.append(button);\n",
       "    var titlebar = this.root.find($('.ui-dialog-titlebar'));\n",
       "    titlebar.prepend(buttongrp);\n",
       "}\n",
       "\n",
       "mpl.figure.prototype._root_extra_style = function(el){\n",
       "    var fig = this\n",
       "    el.on(\"remove\", function(){\n",
       "\tfig.close_ws(fig, {});\n",
       "    });\n",
       "}\n",
       "\n",
       "mpl.figure.prototype._canvas_extra_style = function(el){\n",
       "    // this is important to make the div 'focusable\n",
       "    el.attr('tabindex', 0)\n",
       "    // reach out to IPython and tell the keyboard manager to turn it's self\n",
       "    // off when our div gets focus\n",
       "\n",
       "    // location in version 3\n",
       "    if (IPython.notebook.keyboard_manager) {\n",
       "        IPython.notebook.keyboard_manager.register_events(el);\n",
       "    }\n",
       "    else {\n",
       "        // location in version 2\n",
       "        IPython.keyboard_manager.register_events(el);\n",
       "    }\n",
       "\n",
       "}\n",
       "\n",
       "mpl.figure.prototype._key_event_extra = function(event, name) {\n",
       "    var manager = IPython.notebook.keyboard_manager;\n",
       "    if (!manager)\n",
       "        manager = IPython.keyboard_manager;\n",
       "\n",
       "    // Check for shift+enter\n",
       "    if (event.shiftKey && event.which == 13) {\n",
       "        this.canvas_div.blur();\n",
       "        // select the cell after this one\n",
       "        var index = IPython.notebook.find_cell_index(this.cell_info[0]);\n",
       "        IPython.notebook.select(index + 1);\n",
       "    }\n",
       "}\n",
       "\n",
       "mpl.figure.prototype.handle_save = function(fig, msg) {\n",
       "    fig.ondownload(fig, null);\n",
       "}\n",
       "\n",
       "\n",
       "mpl.find_output_cell = function(html_output) {\n",
       "    // Return the cell and output element which can be found *uniquely* in the notebook.\n",
       "    // Note - this is a bit hacky, but it is done because the \"notebook_saving.Notebook\"\n",
       "    // IPython event is triggered only after the cells have been serialised, which for\n",
       "    // our purposes (turning an active figure into a static one), is too late.\n",
       "    var cells = IPython.notebook.get_cells();\n",
       "    var ncells = cells.length;\n",
       "    for (var i=0; i<ncells; i++) {\n",
       "        var cell = cells[i];\n",
       "        if (cell.cell_type === 'code'){\n",
       "            for (var j=0; j<cell.output_area.outputs.length; j++) {\n",
       "                var data = cell.output_area.outputs[j];\n",
       "                if (data.data) {\n",
       "                    // IPython >= 3 moved mimebundle to data attribute of output\n",
       "                    data = data.data;\n",
       "                }\n",
       "                if (data['text/html'] == html_output) {\n",
       "                    return [cell, data, j];\n",
       "                }\n",
       "            }\n",
       "        }\n",
       "    }\n",
       "}\n",
       "\n",
       "// Register the function which deals with the matplotlib target/channel.\n",
       "// The kernel may be null if the page has been refreshed.\n",
       "if (IPython.notebook.kernel != null) {\n",
       "    IPython.notebook.kernel.comm_manager.register_target('matplotlib', mpl.mpl_figure_comm);\n",
       "}\n"
      ],
      "text/plain": [
       "<IPython.core.display.Javascript object>"
      ]
     },
     "metadata": {},
     "output_type": "display_data"
    },
    {
     "data": {
      "text/html": [
       "<img src=\"data:image/png;base64,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\" width=\"800\">"
      ],
      "text/plain": [
       "<IPython.core.display.HTML object>"
      ]
     },
     "metadata": {},
     "output_type": "display_data"
    }
   ],
   "source": [
    "from sklearn.metrics import roc_curve, auc\n",
    "\n",
    "X_train, X_test, y_train, y_test = train_test_split(X, y_binary_imbalanced, random_state=0)\n",
    "\n",
    "y_score_lr = lr.fit(X_train, y_train).decision_function(X_test)\n",
    "fpr_lr, tpr_lr, _ = roc_curve(y_test, y_score_lr)\n",
    "roc_auc_lr = auc(fpr_lr, tpr_lr)\n",
    "\n",
    "plt.figure()\n",
    "plt.xlim([-0.01, 1.00])\n",
    "plt.ylim([-0.01, 1.01])\n",
    "plt.plot(fpr_lr, tpr_lr, lw=3, label='LogRegr ROC curve (area = {:0.2f})'.format(roc_auc_lr))\n",
    "plt.xlabel('False Positive Rate', fontsize=16)\n",
    "plt.ylabel('True Positive Rate', fontsize=16)\n",
    "plt.title('ROC curve (1-of-10 digits classifier)', fontsize=16)\n",
    "plt.legend(loc='lower right', fontsize=13)\n",
    "plt.plot([0, 1], [0, 1], color='navy', lw=3, linestyle='--')\n",
    "plt.axes().set_aspect('equal')\n",
    "plt.show()"
   ]
  },
  {
   "cell_type": "code",
   "execution_count": null,
   "metadata": {
    "collapsed": false,
    "scrolled": false
   },
   "outputs": [],
   "source": [
    "from matplotlib import cm\n",
    "\n",
    "X_train, X_test, y_train, y_test = train_test_split(X, y_binary_imbalanced, random_state=0)\n",
    "\n",
    "plt.figure()\n",
    "plt.xlim([-0.01, 1.00])\n",
    "plt.ylim([-0.01, 1.01])\n",
    "for g in [0.01, 0.1, 0.20, 1]:\n",
    "    svm = SVC(gamma=g).fit(X_train, y_train)\n",
    "    y_score_svm = svm.decision_function(X_test)\n",
    "    fpr_svm, tpr_svm, _ = roc_curve(y_test, y_score_svm)\n",
    "    roc_auc_svm = auc(fpr_svm, tpr_svm)\n",
    "    accuracy_svm = svm.score(X_test, y_test)\n",
    "    print(\"gamma = {:.2f}  accuracy = {:.2f}   AUC = {:.2f}\".format(g, accuracy_svm, \n",
    "                                                                    roc_auc_svm))\n",
    "    plt.plot(fpr_svm, tpr_svm, lw=3, alpha=0.7, \n",
    "             label='SVM (gamma = {:0.2f}, area = {:0.2f})'.format(g, roc_auc_svm))\n",
    "\n",
    "plt.xlabel('False Positive Rate', fontsize=16)\n",
    "plt.ylabel('True Positive Rate (Recall)', fontsize=16)\n",
    "plt.plot([0, 1], [0, 1], color='k', lw=0.5, linestyle='--')\n",
    "plt.legend(loc=\"lower right\", fontsize=11)\n",
    "plt.title('ROC curve: (1-of-10 digits classifier)', fontsize=16)\n",
    "plt.axes().set_aspect('equal')\n",
    "\n",
    "plt.show()"
   ]
  },
  {
   "cell_type": "markdown",
   "metadata": {},
   "source": [
    "### Evaluation measures for multi-class classification"
   ]
  },
  {
   "cell_type": "markdown",
   "metadata": {},
   "source": [
    "#### Multi-class confusion matrix"
   ]
  },
  {
   "cell_type": "code",
   "execution_count": null,
   "metadata": {
    "collapsed": false,
    "scrolled": false
   },
   "outputs": [],
   "source": [
    "dataset = load_digits()\n",
    "X, y = dataset.data, dataset.target\n",
    "X_train_mc, X_test_mc, y_train_mc, y_test_mc = train_test_split(X, y, random_state=0)\n",
    "\n",
    "\n",
    "svm = SVC(kernel = 'linear').fit(X_train_mc, y_train_mc)\n",
    "svm_predicted_mc = svm.predict(X_test_mc)\n",
    "confusion_mc = confusion_matrix(y_test_mc, svm_predicted_mc)\n",
    "df_cm = pd.DataFrame(confusion_mc, \n",
    "                     index = [i for i in range(0,10)], columns = [i for i in range(0,10)])\n",
    "\n",
    "plt.figure(figsize=(5.5,4))\n",
    "sns.heatmap(df_cm, annot=True)\n",
    "plt.title('SVM Linear Kernel \\nAccuracy:{0:.3f}'.format(accuracy_score(y_test_mc, \n",
    "                                                                       svm_predicted_mc)))\n",
    "plt.ylabel('True label')\n",
    "plt.xlabel('Predicted label')\n",
    "\n",
    "\n",
    "svm = SVC(kernel = 'rbf').fit(X_train_mc, y_train_mc)\n",
    "svm_predicted_mc = svm.predict(X_test_mc)\n",
    "confusion_mc = confusion_matrix(y_test_mc, svm_predicted_mc)\n",
    "df_cm = pd.DataFrame(confusion_mc, index = [i for i in range(0,10)],\n",
    "                  columns = [i for i in range(0,10)])\n",
    "\n",
    "plt.figure(figsize = (5.5,4))\n",
    "sns.heatmap(df_cm, annot=True)\n",
    "plt.title('SVM RBF Kernel \\nAccuracy:{0:.3f}'.format(accuracy_score(y_test_mc, \n",
    "                                                                    svm_predicted_mc)))\n",
    "plt.ylabel('True label')\n",
    "plt.xlabel('Predicted label');"
   ]
  },
  {
   "cell_type": "markdown",
   "metadata": {},
   "source": [
    "#### Multi-class classification report"
   ]
  },
  {
   "cell_type": "code",
   "execution_count": null,
   "metadata": {
    "collapsed": false
   },
   "outputs": [],
   "source": [
    "print(classification_report(y_test_mc, svm_predicted_mc))"
   ]
  },
  {
   "cell_type": "markdown",
   "metadata": {},
   "source": [
    "#### Micro- vs. macro-averaged metrics"
   ]
  },
  {
   "cell_type": "code",
   "execution_count": null,
   "metadata": {
    "collapsed": false
   },
   "outputs": [],
   "source": [
    "print('Micro-averaged precision = {:.2f} (treat instances equally)'\n",
    "      .format(precision_score(y_test_mc, svm_predicted_mc, average = 'micro')))\n",
    "print('Macro-averaged precision = {:.2f} (treat classes equally)'\n",
    "      .format(precision_score(y_test_mc, svm_predicted_mc, average = 'macro')))"
   ]
  },
  {
   "cell_type": "code",
   "execution_count": null,
   "metadata": {
    "collapsed": false
   },
   "outputs": [],
   "source": [
    "print('Micro-averaged f1 = {:.2f} (treat instances equally)'\n",
    "      .format(f1_score(y_test_mc, svm_predicted_mc, average = 'micro')))\n",
    "print('Macro-averaged f1 = {:.2f} (treat classes equally)'\n",
    "      .format(f1_score(y_test_mc, svm_predicted_mc, average = 'macro')))"
   ]
  },
  {
   "cell_type": "markdown",
   "metadata": {},
   "source": [
    "### Regression evaluation metrics"
   ]
  },
  {
   "cell_type": "code",
   "execution_count": null,
   "metadata": {
    "collapsed": false
   },
   "outputs": [],
   "source": [
    "%matplotlib notebook\n",
    "import matplotlib.pyplot as plt\n",
    "import numpy as np\n",
    "from sklearn.model_selection import train_test_split\n",
    "from sklearn import datasets\n",
    "from sklearn.linear_model import LinearRegression\n",
    "from sklearn.metrics import mean_squared_error, r2_score\n",
    "from sklearn.dummy import DummyRegressor\n",
    "\n",
    "diabetes = datasets.load_diabetes()\n",
    "\n",
    "X = diabetes.data[:, None, 6]\n",
    "y = diabetes.target\n",
    "\n",
    "X_train, X_test, y_train, y_test = train_test_split(X, y, random_state=0)\n",
    "\n",
    "lm = LinearRegression().fit(X_train, y_train)\n",
    "lm_dummy_mean = DummyRegressor(strategy = 'mean').fit(X_train, y_train)\n",
    "\n",
    "y_predict = lm.predict(X_test)\n",
    "y_predict_dummy_mean = lm_dummy_mean.predict(X_test)\n",
    "\n",
    "print('Linear model, coefficients: ', lm.coef_)\n",
    "print(\"Mean squared error (dummy): {:.2f}\".format(mean_squared_error(y_test, \n",
    "                                                                     y_predict_dummy_mean)))\n",
    "print(\"Mean squared error (linear model): {:.2f}\".format(mean_squared_error(y_test, y_predict)))\n",
    "print(\"r2_score (dummy): {:.2f}\".format(r2_score(y_test, y_predict_dummy_mean)))\n",
    "print(\"r2_score (linear model): {:.2f}\".format(r2_score(y_test, y_predict)))\n",
    "\n",
    "# Plot outputs\n",
    "plt.scatter(X_test, y_test,  color='black')\n",
    "plt.plot(X_test, y_predict, color='green', linewidth=2)\n",
    "plt.plot(X_test, y_predict_dummy_mean, color='red', linestyle = 'dashed', \n",
    "         linewidth=2, label = 'dummy')\n",
    "\n",
    "plt.show()"
   ]
  },
  {
   "cell_type": "markdown",
   "metadata": {},
   "source": [
    "### Model selection using evaluation metrics"
   ]
  },
  {
   "cell_type": "markdown",
   "metadata": {},
   "source": [
    "#### Cross-validation example"
   ]
  },
  {
   "cell_type": "code",
   "execution_count": null,
   "metadata": {
    "collapsed": false
   },
   "outputs": [],
   "source": [
    "from sklearn.model_selection import cross_val_score\n",
    "from sklearn.svm import SVC\n",
    "\n",
    "dataset = load_digits()\n",
    "# again, making this a binary problem with 'digit 1' as positive class \n",
    "# and 'not 1' as negative class\n",
    "X, y = dataset.data, dataset.target == 1\n",
    "clf = SVC(kernel='linear', C=1)\n",
    "\n",
    "# accuracy is the default scoring metric\n",
    "print('Cross-validation (accuracy)', cross_val_score(clf, X, y, cv=5))\n",
    "# use AUC as scoring metric\n",
    "print('Cross-validation (AUC)', cross_val_score(clf, X, y, cv=5, scoring = 'roc_auc'))\n",
    "# use recall as scoring metric\n",
    "print('Cross-validation (recall)', cross_val_score(clf, X, y, cv=5, scoring = 'recall'))"
   ]
  },
  {
   "cell_type": "markdown",
   "metadata": {},
   "source": [
    "#### Grid search example"
   ]
  },
  {
   "cell_type": "code",
   "execution_count": 18,
   "metadata": {
    "collapsed": false
   },
   "outputs": [
    {
     "name": "stdout",
     "output_type": "stream",
     "text": [
      "Grid best parameter (max. accuracy):  {'gamma': 0.001}\n",
      "Grid best score (accuracy):  0.996288047513\n"
     ]
    },
    {
     "ename": "AttributeError",
     "evalue": "'numpy.ndarray' object has no attribute 'get_params'",
     "output_type": "error",
     "traceback": [
      "\u001b[0;31m---------------------------------------------------------------------------\u001b[0m",
      "\u001b[0;31mAttributeError\u001b[0m                            Traceback (most recent call last)",
      "\u001b[0;32m<ipython-input-18-e425288fa1b9>\u001b[0m in \u001b[0;36m<module>\u001b[0;34m()\u001b[0m\n\u001b[1;32m     23\u001b[0m \u001b[0my_decision_fn_scores_auc\u001b[0m \u001b[0;34m=\u001b[0m \u001b[0mgrid_clf_auc\u001b[0m\u001b[0;34m.\u001b[0m\u001b[0mdecision_function\u001b[0m\u001b[0;34m(\u001b[0m\u001b[0mX_test\u001b[0m\u001b[0;34m)\u001b[0m\u001b[0;34m\u001b[0m\u001b[0m\n\u001b[1;32m     24\u001b[0m \u001b[0;34m\u001b[0m\u001b[0m\n\u001b[0;32m---> 25\u001b[0;31m \u001b[0mprint\u001b[0m\u001b[0;34m(\u001b[0m\u001b[0;34m'Test set AUC: '\u001b[0m\u001b[0;34m,\u001b[0m \u001b[0my_decision_fn_scores_auc\u001b[0m\u001b[0;34m.\u001b[0m\u001b[0mget_params\u001b[0m\u001b[0;34m(\u001b[0m\u001b[0mX_test\u001b[0m\u001b[0;34m)\u001b[0m\u001b[0;34m)\u001b[0m\u001b[0;34m\u001b[0m\u001b[0m\n\u001b[0m\u001b[1;32m     26\u001b[0m \u001b[0mprint\u001b[0m\u001b[0;34m(\u001b[0m\u001b[0;34m'Grid best parameter (max. AUC): '\u001b[0m\u001b[0;34m,\u001b[0m \u001b[0mgrid_clf_auc\u001b[0m\u001b[0;34m.\u001b[0m\u001b[0mbest_params_\u001b[0m\u001b[0;34m)\u001b[0m\u001b[0;34m\u001b[0m\u001b[0m\n\u001b[1;32m     27\u001b[0m \u001b[0mprint\u001b[0m\u001b[0;34m(\u001b[0m\u001b[0;34m'Grid best score (AUC): '\u001b[0m\u001b[0;34m,\u001b[0m \u001b[0mgrid_clf_auc\u001b[0m\u001b[0;34m.\u001b[0m\u001b[0mbest_score_\u001b[0m\u001b[0;34m)\u001b[0m\u001b[0;34m\u001b[0m\u001b[0m\n",
      "\u001b[0;31mAttributeError\u001b[0m: 'numpy.ndarray' object has no attribute 'get_params'"
     ]
    }
   ],
   "source": [
    "from sklearn.svm import SVC\n",
    "from sklearn.model_selection import GridSearchCV\n",
    "from sklearn.metrics import roc_auc_score\n",
    "\n",
    "dataset = load_digits()\n",
    "X, y = dataset.data, dataset.target == 1\n",
    "X_train, X_test, y_train, y_test = train_test_split(X, y, random_state=0)\n",
    "\n",
    "clf = SVC(kernel='rbf')\n",
    "grid_values = {'gamma': [0.001, 0.01, 0.05, 0.1, 1, 10, 100]}\n",
    "\n",
    "# default metric to optimize over grid parameters: accuracy\n",
    "grid_clf_acc = GridSearchCV(clf, param_grid = grid_values)\n",
    "grid_clf_acc.fit(X_train, y_train)\n",
    "y_decision_fn_scores_acc = grid_clf_acc.decision_function(X_test) \n",
    "\n",
    "print('Grid best parameter (max. accuracy): ', grid_clf_acc.best_params_)\n",
    "print('Grid best score (accuracy): ', grid_clf_acc.best_score_)\n",
    "\n",
    "# alternative metric to optimize over grid parameters: AUC\n",
    "grid_clf_auc = GridSearchCV(clf, param_grid = grid_values, scoring = 'roc_auc')\n",
    "grid_clf_auc.fit(X_train, y_train)\n",
    "y_decision_fn_scores_auc = grid_clf_auc.decision_function(X_test) \n",
    "\n",
    "print('Test set AUC: ', roc_auc_score(y_test, y_decision_fn_scores_auc))\n",
    "print('Grid best parameter (max. AUC): ', grid_clf_auc.best_params_)\n",
    "print('Grid best score (AUC): ', grid_clf_auc.best_score_)\n"
   ]
  },
  {
   "cell_type": "markdown",
   "metadata": {},
   "source": [
    "#### Evaluation metrics supported for model selection"
   ]
  },
  {
   "cell_type": "code",
   "execution_count": null,
   "metadata": {
    "collapsed": false
   },
   "outputs": [],
   "source": [
    "from sklearn.metrics.scorer import SCORERS\n",
    "\n",
    "print(sorted(list(SCORERS.keys())))"
   ]
  },
  {
   "cell_type": "markdown",
   "metadata": {},
   "source": [
    "### Two-feature classification example using the digits dataset"
   ]
  },
  {
   "cell_type": "markdown",
   "metadata": {},
   "source": [
    "#### Optimizing a classifier using different evaluation metrics"
   ]
  },
  {
   "cell_type": "code",
   "execution_count": null,
   "metadata": {
    "collapsed": false,
    "scrolled": false
   },
   "outputs": [],
   "source": [
    "from sklearn.datasets import load_digits\n",
    "from sklearn.model_selection import train_test_split\n",
    "from adspy_shared_utilities import plot_class_regions_for_classifier_subplot\n",
    "from sklearn.svm import SVC\n",
    "from sklearn.model_selection import GridSearchCV\n",
    "\n",
    "\n",
    "dataset = load_digits()\n",
    "X, y = dataset.data, dataset.target == 1\n",
    "X_train, X_test, y_train, y_test = train_test_split(X, y, random_state=0)\n",
    "\n",
    "# Create a two-feature input vector matching the example plot above\n",
    "# We jitter the points (add a small amount of random noise) in case there are areas\n",
    "# in feature space where many instances have the same features.\n",
    "jitter_delta = 0.25\n",
    "X_twovar_train = X_train[:,[20,59]]+ np.random.rand(X_train.shape[0], 2) - jitter_delta\n",
    "X_twovar_test  = X_test[:,[20,59]] + np.random.rand(X_test.shape[0], 2) - jitter_delta\n",
    "\n",
    "clf = SVC(kernel = 'linear').fit(X_twovar_train, y_train)\n",
    "grid_values = {'class_weight':['balanced', {1:2},{1:3},{1:4},{1:5},{1:10},{1:20},{1:50}]}\n",
    "plt.figure(figsize=(9,6))\n",
    "for i, eval_metric in enumerate(('precision','recall', 'f1','roc_auc')):\n",
    "    grid_clf_custom = GridSearchCV(clf, param_grid=grid_values, scoring=eval_metric)\n",
    "    grid_clf_custom.fit(X_twovar_train, y_train)\n",
    "    print('Grid best parameter (max. {0}): {1}'\n",
    "          .format(eval_metric, grid_clf_custom.best_params_))\n",
    "    print('Grid best score ({0}): {1}'\n",
    "          .format(eval_metric, grid_clf_custom.best_score_))\n",
    "    plt.subplots_adjust(wspace=0.3, hspace=0.3)\n",
    "    plot_class_regions_for_classifier_subplot(grid_clf_custom, X_twovar_test, y_test, None,\n",
    "                                             None, None,  plt.subplot(2, 2, i+1))\n",
    "    \n",
    "    plt.title(eval_metric+'-oriented SVC')\n",
    "plt.tight_layout()\n",
    "plt.show()"
   ]
  },
  {
   "cell_type": "markdown",
   "metadata": {},
   "source": [
    "#### Precision-recall curve for the default SVC classifier (with balanced class weights)"
   ]
  },
  {
   "cell_type": "code",
   "execution_count": null,
   "metadata": {
    "collapsed": false,
    "scrolled": false
   },
   "outputs": [],
   "source": [
    "from sklearn.model_selection import train_test_split\n",
    "from sklearn.metrics import precision_recall_curve\n",
    "from adspy_shared_utilities import plot_class_regions_for_classifier\n",
    "from sklearn.svm import SVC\n",
    "\n",
    "dataset = load_digits()\n",
    "X, y = dataset.data, dataset.target == 1\n",
    "X_train, X_test, y_train, y_test = train_test_split(X, y, random_state=0)\n",
    "\n",
    "# create a two-feature input vector matching the example plot above\n",
    "jitter_delta = 0.25\n",
    "X_twovar_train = X_train[:,[20,59]]+ np.random.rand(X_train.shape[0], 2) - jitter_delta\n",
    "X_twovar_test  = X_test[:,[20,59]] + np.random.rand(X_test.shape[0], 2) - jitter_delta\n",
    "\n",
    "clf = SVC(kernel='linear', class_weight='balanced').fit(X_twovar_train, y_train)\n",
    "\n",
    "y_scores = clf.decision_function(X_twovar_test)\n",
    "\n",
    "precision, recall, thresholds = precision_recall_curve(y_test, y_scores)\n",
    "closest_zero = np.argmin(np.abs(thresholds))\n",
    "closest_zero_p = precision[closest_zero]\n",
    "closest_zero_r = recall[closest_zero]\n",
    "\n",
    "plot_class_regions_for_classifier(clf, X_twovar_test, y_test)\n",
    "plt.title(\"SVC, class_weight = 'balanced', optimized for accuracy\")\n",
    "plt.show()\n",
    "\n",
    "plt.figure()\n",
    "plt.xlim([0.0, 1.01])\n",
    "plt.ylim([0.0, 1.01])\n",
    "plt.title (\"Precision-recall curve: SVC, class_weight = 'balanced'\")\n",
    "plt.plot(precision, recall, label = 'Precision-Recall Curve')\n",
    "plt.plot(closest_zero_p, closest_zero_r, 'o', markersize=12, fillstyle='none', c='r', mew=3)\n",
    "plt.xlabel('Precision', fontsize=16)\n",
    "plt.ylabel('Recall', fontsize=16)\n",
    "plt.axes().set_aspect('equal')\n",
    "plt.show()\n",
    "print('At zero threshold, precision: {:.2f}, recall: {:.2f}'\n",
    "      .format(closest_zero_p, closest_zero_r))"
   ]
  },
  {
   "cell_type": "code",
   "execution_count": null,
   "metadata": {
    "collapsed": true
   },
   "outputs": [],
   "source": []
  }
 ],
 "metadata": {
  "anaconda-cloud": {},
  "kernelspec": {
   "display_name": "Python 3",
   "language": "python",
   "name": "python3"
  },
  "language_info": {
   "codemirror_mode": {
    "name": "ipython",
    "version": 3
   },
   "file_extension": ".py",
   "mimetype": "text/x-python",
   "name": "python",
   "nbconvert_exporter": "python",
   "pygments_lexer": "ipython3",
   "version": "3.6.2"
  }
 },
 "nbformat": 4,
 "nbformat_minor": 1
}
