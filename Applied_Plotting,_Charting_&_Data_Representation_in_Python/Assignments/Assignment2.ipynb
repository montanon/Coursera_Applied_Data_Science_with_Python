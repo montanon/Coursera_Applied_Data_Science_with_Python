{
 "cells": [
  {
   "cell_type": "code",
   "execution_count": null,
   "metadata": {},
   "outputs": [],
   "source": [
    "%matplotlib inline"
   ]
  },
  {
   "cell_type": "markdown",
   "metadata": {},
   "source": [
    "# Assignment 2\n",
    "\n",
    "Before working on this assignment please read these instructions fully. In the submission area, you will notice that you can click the link to **Preview the Grading** for each step of the assignment. This is the criteria that will be used for peer grading. Please familiarize yourself with the criteria before beginning the assignment.\n",
    "\n",
    "An NOAA dataset has been stored in the file `data/C2A2_data/BinnedCsvs_d400/fb441e62df2d58994928907a91895ec62c2c42e6cd075c2700843b89.csv`. This is the dataset to use for this assignment. Note: The data for this assignment comes from a subset of The National Centers for Environmental Information (NCEI) [Daily Global Historical Climatology Network](https://www1.ncdc.noaa.gov/pub/data/ghcn/daily/readme.txt) (GHCN-Daily). The GHCN-Daily is comprised of daily climate records from thousands of land surface stations across the globe.\n",
    "\n",
    "Each row in the assignment datafile corresponds to a single observation.\n",
    "\n",
    "The following variables are provided to you:\n",
    "\n",
    "* **id** : station identification code\n",
    "* **date** : date in YYYY-MM-DD format (e.g. 2012-01-24 = January 24, 2012)\n",
    "* **element** : indicator of element type\n",
    "    * TMAX : Maximum temperature (tenths of degrees C)\n",
    "    * TMIN : Minimum temperature (tenths of degrees C)\n",
    "* **value** : data value for element (tenths of degrees C)\n",
    "\n",
    "For this assignment, you must:\n",
    "\n",
    "1. Read the documentation and familiarize yourself with the dataset, then write some python code which returns a line graph of the record high and record low temperatures by day of the year over the period 2005-2014. The area between the record high and record low temperatures for each day should be shaded.\n",
    "2. Overlay a scatter of the 2015 data for any points (highs and lows) for which the ten year record (2005-2014) record high or record low was broken in 2015.\n",
    "3. Watch out for leap days (i.e. February 29th), it is reasonable to remove these points from the dataset for the purpose of this visualization.\n",
    "4. Make the visual nice! Leverage principles from the first module in this course when developing your solution. Consider issues such as legends, labels, and chart junk.\n",
    "\n",
    "The data you have been given is near **Ann Arbor, Michigan, United States**, and the stations the data comes from are shown on the map below."
   ]
  },
  {
   "cell_type": "code",
   "execution_count": null,
   "metadata": {},
   "outputs": [],
   "source": [
    "import matplotlib.pyplot as plt\n",
    "import mplleaflet\n",
    "import pandas as pd\n",
    "\n",
    "def leaflet_plot_stations(binsize, hashid):\n",
    "\n",
    "    df = pd.read_csv('data/C2A2_data/BinSize_d{}.csv'.format(binsize))\n",
    "\n",
    "    station_locations_by_hash = df[df['hash'] == hashid]\n",
    "\n",
    "    lons = station_locations_by_hash['LONGITUDE'].tolist()\n",
    "    lats = station_locations_by_hash['LATITUDE'].tolist()\n",
    "\n",
    "    plt.figure(figsize=(8,8))\n",
    "\n",
    "    plt.scatter(lons, lats, c='r', alpha=0.7, s=200)\n",
    "\n",
    "    return mplleaflet.display()\n",
    "\n",
    "leaflet_plot_stations(400,'fb441e62df2d58994928907a91895ec62c2c42e6cd075c2700843b89')"
   ]
  },
  {
   "cell_type": "code",
   "execution_count": null,
   "metadata": {},
   "outputs": [],
   "source": [
    "import matplotlib.pyplot as plt\n",
    "import mplleaflet\n",
    "import pandas as pd\n",
    "import numpy as np\n",
    "\n",
    "def leaflet_temperature():\n",
    "\n",
    "    df = pd.read_csv('data/C2A2_data/BinnedCsvs_d400/fb441e62df2d58994928907a91895ec62c2c42e6cd075c2700843b89.csv')\n",
    "    df = df.sort_values(['ID', 'Date'])\n",
    "    df['Data_Value'] = df['Data_Value']*0.1\n",
    "    \n",
    "    df['Year'] = df['Date'].apply(lambda x: x[:4])\n",
    "    df['Month-Day'] = df['Date'].apply(lambda x: x[-5:])\n",
    "        \n",
    "    df = df.loc[df['Month-Day'] != '02-29']\n",
    "    \n",
    "    index = df['Month-Day'].unique()\n",
    "    \n",
    "    df_hist = df[(df['Year'] >= '2005') & (df['Year'] < '2015')]\n",
    "    df_15 = df[df['Year'] == '2015']\n",
    "    \n",
    "    max_hist = df_hist.groupby('Month-Day').agg({'Data_Value': np.max}).reset_index()\n",
    "    min_hist = df_hist.groupby('Month-Day').agg({'Data_Value': np.min}).reset_index()\n",
    "    \n",
    "    max_15 = df_15.groupby('Month-Day').agg({'Data_Value': np.max})\n",
    "    min_15 = df_15.groupby('Month-Day').agg({'Data_Value': np.min})\n",
    "    \n",
    "    rec_max = pd.merge(max_hist.reset_index(), max_15.reset_index(), left_index = True, on = 'Month-Day')\n",
    "    rec_min = pd.merge(min_hist.reset_index(), min_15.reset_index(), left_index = True, on = 'Month-Day')\n",
    "    \n",
    "    max_break = rec_max[rec_max['Data_Value_y'] > rec_max['Data_Value_x']]\n",
    "    min_break = rec_min[rec_min['Data_Value_y'] < rec_min['Data_Value_x']] \n",
    "    \n",
    "    plt.figure(figsize=(10,5))  \n",
    "    plt.plot(max_hist.index, max_hist['Data_Value'], color = 'r')\n",
    "    plt.plot(min_hist.index, min_hist['Data_Value'], color = 'b')\n",
    "    \n",
    "    plt.scatter(max_break.index, max_break['Data_Value_y'], color='red', linewidths=3)\n",
    "    plt.scatter(min_break.index, min_break['Data_Value_y'], color='g', linewidths=3)\n",
    "    \n",
    "    ax = plt.gca()\n",
    "    ax.set_xlabel('Month-Day')\n",
    "    ax.set_ylabel('Temperature [°C]')\n",
    "    ax.set_title('Record Temperatures by day of the year over 2005-2014 in Ann Arbor, Michigan, United States with 2015 records breaks')\n",
    "    ax.legend(['T_max', 'T_min', 'Break_max', 'Break_min'])\n",
    "    \n",
    "    date1 = rec_min.index[0]\n",
    "    date2 = rec_min.index[-1]\n",
    "    \n",
    "    ax.axis([date1,date2,-50,50])\n",
    "    \n",
    "    ax.fill_between(min_hist.index, max_hist['Data_Value'], min_hist['Data_Value'], facecolor='blue', alpha=0.2)\n",
    "    plt.xticks(range(0,365, 12), index[0:-1:12])\n",
    "    \n",
    "    for item in ax.xaxis.get_ticklabels():\n",
    "        item.set_rotation(45)\n",
    "    \n",
    "    plt.subplots_adjust(bottom=0.25)\n",
    "    \n",
    "    plt.savefig('Assignment 2 - Figure.png')\n",
    "                         \n",
    "    return plt.show()"
   ]
  }
 ],
 "metadata": {
  "hide_input": false,
  "kernelspec": {
   "display_name": "Python 3",
   "language": "python",
   "name": "python3"
  },
  "language_info": {
   "codemirror_mode": {
    "name": "ipython",
    "version": 3
   },
   "file_extension": ".py",
   "mimetype": "text/x-python",
   "name": "python",
   "nbconvert_exporter": "python",
   "pygments_lexer": "ipython3",
   "version": "3.7.6"
  },
  "nbTranslate": {
   "displayLangs": [
    "*"
   ],
   "hotkey": "alt-t",
   "langInMainMenu": true,
   "sourceLang": "en",
   "targetLang": "fr",
   "useGoogleTranslate": true
  },
  "toc": {
   "base_numbering": 1,
   "nav_menu": {},
   "number_sections": true,
   "sideBar": true,
   "skip_h1_title": false,
   "title_cell": "Table of Contents",
   "title_sidebar": "Contents",
   "toc_cell": false,
   "toc_position": {},
   "toc_section_display": true,
   "toc_window_display": false
  },
  "varInspector": {
   "cols": {
    "lenName": 16,
    "lenType": 16,
    "lenVar": 40
   },
   "kernels_config": {
    "python": {
     "delete_cmd_postfix": "",
     "delete_cmd_prefix": "del ",
     "library": "var_list.py",
     "varRefreshCmd": "print(var_dic_list())"
    },
    "r": {
     "delete_cmd_postfix": ") ",
     "delete_cmd_prefix": "rm(",
     "library": "var_list.r",
     "varRefreshCmd": "cat(var_dic_list()) "
    }
   },
   "types_to_exclude": [
    "module",
    "function",
    "builtin_function_or_method",
    "instance",
    "_Feature"
   ],
   "window_display": false
  }
 },
 "nbformat": 4,
 "nbformat_minor": 1
}
